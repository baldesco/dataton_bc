{
 "cells": [
  {
   "cell_type": "markdown",
   "metadata": {},
   "source": [
    "# Dataton BC 2018\n",
    "\n",
    "**Grupo:** The kernel trick\n",
    "\n",
    "**Fecha:** 29-10-2018"
   ]
  },
  {
   "cell_type": "markdown",
   "metadata": {},
   "source": [
    "# Script # 3: Modelo de clasificación para asignar categorías a cada transacción\n",
    "\n",
    "En este script se desarrolla un modelo de clasificación multi-clase para asignar alguna de las categorías encontradas en el script 2 a cada transacción, basándose en datos de la transacción y del pagador.\n",
    "_____________________________________________________________________________________________________________________________\n"
   ]
  },
  {
   "cell_type": "code",
   "execution_count": 1,
   "metadata": {},
   "outputs": [
    {
     "name": "stderr",
     "output_type": "stream",
     "text": [
      "C:\\Users\\edescobar\\AppData\\Local\\Continuum\\miniconda3\\envs\\anaconda\\lib\\site-packages\\sklearn\\ensemble\\weight_boosting.py:29: DeprecationWarning: numpy.core.umath_tests is an internal NumPy module and should not be imported. It will be removed in a future NumPy release.\n",
      "  from numpy.core.umath_tests import inner1d\n"
     ]
    }
   ],
   "source": [
    "# Importar librerías\n",
    "\n",
    "import numpy as np\n",
    "import pandas as pd \n",
    "from sklearn.preprocessing import StandardScaler\n",
    "from sklearn.decomposition import PCA\n",
    "\n",
    "from sklearn.metrics import accuracy_score, confusion_matrix\n",
    "from sklearn.ensemble import RandomForestClassifier\n",
    "from sklearn.model_selection import GridSearchCV, train_test_split\n",
    "from xgboost import XGBClassifier\n",
    "\n",
    "pd.options.mode.chained_assignment = None\n",
    "\n",
    "semilla = 13"
   ]
  },
  {
   "cell_type": "markdown",
   "metadata": {},
   "source": [
    "## 1. Cargar base de modelamiento y formar grupos de entrenamiento y prueba"
   ]
  },
  {
   "cell_type": "code",
   "execution_count": 2,
   "metadata": {},
   "outputs": [
    {
     "data": {
      "text/html": [
       "<div>\n",
       "<style scoped>\n",
       "    .dataframe tbody tr th:only-of-type {\n",
       "        vertical-align: middle;\n",
       "    }\n",
       "\n",
       "    .dataframe tbody tr th {\n",
       "        vertical-align: top;\n",
       "    }\n",
       "\n",
       "    .dataframe thead th {\n",
       "        text-align: right;\n",
       "    }\n",
       "</style>\n",
       "<table border=\"1\" class=\"dataframe\">\n",
       "  <thead>\n",
       "    <tr style=\"text-align: right;\">\n",
       "      <th></th>\n",
       "      <th>id_cliente</th>\n",
       "      <th>id_trn_ach</th>\n",
       "      <th>valor_trx</th>\n",
       "      <th>dia_trx</th>\n",
       "      <th>mes_trx</th>\n",
       "      <th>dia_del_mes_trx</th>\n",
       "      <th>hora_trx</th>\n",
       "      <th>cat_tema</th>\n",
       "      <th>seg_str</th>\n",
       "      <th>ocupacion</th>\n",
       "      <th>tipo_vivienda</th>\n",
       "      <th>nivel_academico</th>\n",
       "      <th>estado_civil</th>\n",
       "      <th>genero</th>\n",
       "      <th>edad</th>\n",
       "      <th>ingreso_rango</th>\n",
       "    </tr>\n",
       "  </thead>\n",
       "  <tbody>\n",
       "    <tr>\n",
       "      <th>0</th>\n",
       "      <td>116890</td>\n",
       "      <td>326250526</td>\n",
       "      <td>3120.20</td>\n",
       "      <td>Monday</td>\n",
       "      <td>April</td>\n",
       "      <td>2</td>\n",
       "      <td>21</td>\n",
       "      <td>Pago de impuestos</td>\n",
       "      <td>PERSONAL PLUS</td>\n",
       "      <td>1</td>\n",
       "      <td>NaN</td>\n",
       "      <td>S</td>\n",
       "      <td>I</td>\n",
       "      <td>F</td>\n",
       "      <td>32.0</td>\n",
       "      <td>f. (5.5  6.6MM]</td>\n",
       "    </tr>\n",
       "    <tr>\n",
       "      <th>1</th>\n",
       "      <td>162625</td>\n",
       "      <td>326254647</td>\n",
       "      <td>118031.07</td>\n",
       "      <td>Monday</td>\n",
       "      <td>April</td>\n",
       "      <td>2</td>\n",
       "      <td>21</td>\n",
       "      <td>Pago de impuestos</td>\n",
       "      <td>PERSONAL PLUS</td>\n",
       "      <td>E</td>\n",
       "      <td>F</td>\n",
       "      <td>U</td>\n",
       "      <td>S</td>\n",
       "      <td>M</td>\n",
       "      <td>37.0</td>\n",
       "      <td>h. (7.6  8.7MM]</td>\n",
       "    </tr>\n",
       "    <tr>\n",
       "      <th>2</th>\n",
       "      <td>104683</td>\n",
       "      <td>248482707</td>\n",
       "      <td>17711.09</td>\n",
       "      <td>Wednesday</td>\n",
       "      <td>March</td>\n",
       "      <td>22</td>\n",
       "      <td>11</td>\n",
       "      <td>Pago de impuestos</td>\n",
       "      <td>PERSONAL</td>\n",
       "      <td>1</td>\n",
       "      <td>F</td>\n",
       "      <td>U</td>\n",
       "      <td>M</td>\n",
       "      <td>F</td>\n",
       "      <td>43.0</td>\n",
       "      <td>b. (1.1  2.2MM]</td>\n",
       "    </tr>\n",
       "    <tr>\n",
       "      <th>3</th>\n",
       "      <td>189406</td>\n",
       "      <td>286116816</td>\n",
       "      <td>4957.62</td>\n",
       "      <td>Wednesday</td>\n",
       "      <td>October</td>\n",
       "      <td>4</td>\n",
       "      <td>14</td>\n",
       "      <td>Pago de impuestos</td>\n",
       "      <td>EMPRENDEDOR</td>\n",
       "      <td>NaN</td>\n",
       "      <td>NaN</td>\n",
       "      <td>NaN</td>\n",
       "      <td>NaN</td>\n",
       "      <td>NaN</td>\n",
       "      <td>NaN</td>\n",
       "      <td>i. (8.7  Inf)</td>\n",
       "    </tr>\n",
       "    <tr>\n",
       "      <th>4</th>\n",
       "      <td>62915</td>\n",
       "      <td>334420397</td>\n",
       "      <td>313244.24</td>\n",
       "      <td>Thursday</td>\n",
       "      <td>May</td>\n",
       "      <td>3</td>\n",
       "      <td>20</td>\n",
       "      <td>Pago de impuestos</td>\n",
       "      <td>PERSONAL PLUS</td>\n",
       "      <td>5</td>\n",
       "      <td>O</td>\n",
       "      <td>U</td>\n",
       "      <td>M</td>\n",
       "      <td>F</td>\n",
       "      <td>62.0</td>\n",
       "      <td>i. (8.7  Inf)</td>\n",
       "    </tr>\n",
       "  </tbody>\n",
       "</table>\n",
       "</div>"
      ],
      "text/plain": [
       "   id_cliente  id_trn_ach  valor_trx    dia_trx  mes_trx  dia_del_mes_trx  \\\n",
       "0      116890   326250526    3120.20     Monday    April                2   \n",
       "1      162625   326254647  118031.07     Monday    April                2   \n",
       "2      104683   248482707   17711.09  Wednesday    March               22   \n",
       "3      189406   286116816    4957.62  Wednesday  October                4   \n",
       "4       62915   334420397  313244.24   Thursday      May                3   \n",
       "\n",
       "   hora_trx           cat_tema        seg_str ocupacion tipo_vivienda  \\\n",
       "0        21  Pago de impuestos  PERSONAL PLUS         1           NaN   \n",
       "1        21  Pago de impuestos  PERSONAL PLUS         E             F   \n",
       "2        11  Pago de impuestos       PERSONAL         1             F   \n",
       "3        14  Pago de impuestos    EMPRENDEDOR       NaN           NaN   \n",
       "4        20  Pago de impuestos  PERSONAL PLUS         5             O   \n",
       "\n",
       "  nivel_academico estado_civil genero  edad    ingreso_rango  \n",
       "0               S            I      F  32.0  f. (5.5  6.6MM]  \n",
       "1               U            S      M  37.0  h. (7.6  8.7MM]  \n",
       "2               U            M      F  43.0  b. (1.1  2.2MM]  \n",
       "3             NaN          NaN    NaN   NaN    i. (8.7  Inf)  \n",
       "4               U            M      F  62.0    i. (8.7  Inf)  "
      ]
     },
     "execution_count": 2,
     "metadata": {},
     "output_type": "execute_result"
    }
   ],
   "source": [
    "# Cargar la tabla de modelamiento, tal y como salió del script # 2\n",
    "data = pd.read_csv('base_modelo.csv')\n",
    "data.head()"
   ]
  },
  {
   "cell_type": "code",
   "execution_count": 3,
   "metadata": {},
   "outputs": [],
   "source": [
    "# Definición de columnas numéricas, categóricas y la variable objetivo\n",
    "\n",
    "cols_num = ['valor_trx','dia_del_mes_trx','hora_trx','edad']\n",
    "cols_cat = ['dia_trx','mes_trx','seg_str','ocupacion','tipo_vivienda','nivel_academico','estado_civil','genero',\n",
    "           'ingreso_rango']\n",
    "col_target = ['cat_tema']\n",
    "\n",
    "X = data[cols_num + cols_cat]\n",
    "y = data[col_target]\n",
    "\n",
    "X_train, X_test, y_train, y_test = train_test_split(X, y, test_size=0.25, random_state=semilla)\n"
   ]
  },
  {
   "cell_type": "code",
   "execution_count": 4,
   "metadata": {},
   "outputs": [
    {
     "name": "stdout",
     "output_type": "stream",
     "text": [
      "------ Distribución de datos en set de entrenamiento -----\n",
      "Seguridad social               0.085749\n",
      "Transporte/construcción        0.085379\n",
      "Pago de impuestos              0.085356\n",
      "Servicios públicos             0.085351\n",
      "Tecnología y comunicaciones    0.085276\n",
      "Trámites/gobierno              0.085206\n",
      "Tarjetas de crédito            0.085160\n",
      "Educación                      0.085149\n",
      "Pago de deudas                 0.085133\n",
      "Ahorro y giros                 0.085006\n",
      "Vivienda                       0.084865\n",
      "Otros                          0.062370\n",
      "Name: cat_tema, dtype: float64\n",
      "\n",
      "------ Distribución de datos en set de entrenamiento -----\n",
      "Vivienda                       0.086438\n",
      "Ahorro y giros                 0.086015\n",
      "Pago de deudas                 0.085633\n",
      "Educación                      0.085585\n",
      "Tarjetas de crédito            0.085551\n",
      "Trámites/gobierno              0.085415\n",
      "Tecnología y comunicaciones    0.085203\n",
      "Servicios públicos             0.084978\n",
      "Pago de impuestos              0.084965\n",
      "Transporte/construcción        0.084896\n",
      "Seguridad social               0.083785\n",
      "Otros                          0.061536\n",
      "Name: cat_tema, dtype: float64\n"
     ]
    }
   ],
   "source": [
    "# Comprobar que las clases de la variable objetivo estén distribuidas de manera similar en los grupos de entrenamiento y prueba\n",
    "\n",
    "print('------ Distribución de datos en set de entrenamiento -----')\n",
    "print(y_train.cat_tema.value_counts()/len(y_train))\n",
    "\n",
    "print('\\n------ Distribución de datos en set de entrenamiento -----')\n",
    "print(y_test.cat_tema.value_counts()/len(y_test))"
   ]
  },
  {
   "cell_type": "markdown",
   "metadata": {},
   "source": [
    "## 2. Tratamiento de las variables para poder modelar"
   ]
  },
  {
   "cell_type": "markdown",
   "metadata": {},
   "source": [
    "### 2.1 Tratamiento de variables numéricas"
   ]
  },
  {
   "cell_type": "markdown",
   "metadata": {},
   "source": [
    "#### 2.1.1 Rellenar los datos numéricos faltantes con el promedio de cada columna"
   ]
  },
  {
   "cell_type": "code",
   "execution_count": 5,
   "metadata": {},
   "outputs": [],
   "source": [
    "means = round(X_train[cols_num].mean())\n",
    "\n",
    "X_train[cols_num] = X_train[cols_num].fillna(dict(means))\n",
    "X_test[cols_num] = X_test[cols_num].fillna(dict(means))\n"
   ]
  },
  {
   "cell_type": "markdown",
   "metadata": {},
   "source": [
    "#### 2.1.2 Normalizar las variables numéricas paraque tengan promedio= 0 y desv. estándar = 1\n",
    "\n",
    "Esto puede ser de ayuda para el desempeño de los modelos clasificadores"
   ]
  },
  {
   "cell_type": "code",
   "execution_count": 6,
   "metadata": {},
   "outputs": [],
   "source": [
    "scaler = StandardScaler()\n",
    "X_train[cols_num] = scaler.fit_transform(X_train[cols_num])\n",
    "\n",
    "# Se aplica al dataframe 'holdout'\n",
    "X_test[cols_num] = scaler.transform(X_test[cols_num])\n"
   ]
  },
  {
   "cell_type": "markdown",
   "metadata": {},
   "source": [
    "## 2.2 Tratamiento de las variables categóricas\n",
    "\n",
    "Se hace *one hot encoding* (OHE) para las variables categóricas, para que puedan entrar al modelo."
   ]
  },
  {
   "cell_type": "code",
   "execution_count": 7,
   "metadata": {},
   "outputs": [],
   "source": [
    "X_train    = pd.get_dummies(X_train,drop_first=True,columns=cols_cat,dummy_na=True)\n",
    "X_test = pd.get_dummies(X_test,drop_first=True,columns=cols_cat,dummy_na=True)\n"
   ]
  },
  {
   "cell_type": "markdown",
   "metadata": {},
   "source": [
    "## 2.3 Reducción de dimensionalidad\n",
    "\n",
    "Algunas de las variables categóricas tienen muchos valores posibles. Esto implica que después de aplicar el OHE, el dataset puede quedar con muchas variables. Para reducir el número de variables que entran al modelo, se hace análisis de componentes principales (PCA)."
   ]
  },
  {
   "cell_type": "code",
   "execution_count": 8,
   "metadata": {},
   "outputs": [
    {
     "name": "stdout",
     "output_type": "stream",
     "text": [
      "Cantidad de variables para modelar: 74\n",
      "\n",
      "Al reducir el dataset a 35 variables, aún se puede explicar el 0.924649667829093 de la varianza de los datos.\n"
     ]
    }
   ],
   "source": [
    "print('Cantidad de variables para modelar: {}\\n'.format(len(X_train.columns)))\n",
    "\n",
    "# Se ajusta el modelo PCA\n",
    "pca = PCA(n_components=35)\n",
    "Xp = pca.fit_transform(X_train)\n",
    "Xp_test = pca.transform(X_test)\n",
    "\n",
    "explained_var = pca.explained_variance_ratio_.cumsum()[-1]\n",
    "print('Al reducir el dataset a 35 variables, aún se puede explicar el {} de la varianza de los datos.'.format(explained_var))\n"
   ]
  },
  {
   "cell_type": "markdown",
   "metadata": {},
   "source": [
    "## 3. Desarrollo del modelo"
   ]
  },
  {
   "cell_type": "markdown",
   "metadata": {},
   "source": [
    "### 3.1 Entrenamiento del modelo\n",
    "\n",
    "Se entrena un modelo de *Random Forest* con las bases una vez salen del PCA. Los parámetros elegidos para el modelo salen de una breve búsqueda. Por cuestiones de tiempo no se probaron más modelos, o se hizo una *grid search* más completa."
   ]
  },
  {
   "cell_type": "code",
   "execution_count": 9,
   "metadata": {},
   "outputs": [
    {
     "name": "stderr",
     "output_type": "stream",
     "text": [
      "C:\\Users\\edescobar\\AppData\\Local\\Continuum\\miniconda3\\envs\\anaconda\\lib\\site-packages\\ipykernel_launcher.py:2: DataConversionWarning: A column-vector y was passed when a 1d array was expected. Please change the shape of y to (n_samples,), for example using ravel().\n",
      "  \n"
     ]
    },
    {
     "data": {
      "text/plain": [
       "RandomForestClassifier(bootstrap=True, class_weight=None, criterion='gini',\n",
       "            max_depth=7, max_features='sqrt', max_leaf_nodes=None,\n",
       "            min_impurity_decrease=0.0, min_impurity_split=None,\n",
       "            min_samples_leaf=1, min_samples_split=2,\n",
       "            min_weight_fraction_leaf=0.0, n_estimators=200, n_jobs=1,\n",
       "            oob_score=False, random_state=13, verbose=0, warm_start=False)"
      ]
     },
     "execution_count": 9,
     "metadata": {},
     "output_type": "execute_result"
    }
   ],
   "source": [
    "# Entrenamiento de modelo de Random Forest\n",
    "\n",
    "rf = RandomForestClassifier(criterion='gini', max_depth=7, max_features='sqrt', n_estimators=200,random_state=semilla)\n",
    "rf.fit(Xp,y_train)\n"
   ]
  },
  {
   "cell_type": "markdown",
   "metadata": {},
   "source": [
    "### 3.2 Validación del modelo\n",
    "\n",
    "Primero se define una función para calcular y mostrar resultados sobre sets de entrenamiento y validación para un determinado modelo.\n",
    "\n",
    "Luego se aplica esta función al modelo entrenado para ver su desempeño."
   ]
  },
  {
   "cell_type": "code",
   "execution_count": 10,
   "metadata": {},
   "outputs": [],
   "source": [
    "#  Se define una función para mostrar resultados sobre sets de entrenamiento y validación\n",
    "def show_results(model,X_train, X_test, y_train, y_test):\n",
    "    pred_train = model.predict(X_train)\n",
    "    pred_test = model.predict(X_test)\n",
    "\n",
    "    print('Resultados en set de entrenamiento')\n",
    "    print('Accuracy: {}'.format(accuracy_score(y_train,pred_train)))\n",
    "    print('Confusion matrix:')\n",
    "    print(confusion_matrix(y_train,pred_train))\n",
    "\n",
    "    print('\\n--------------------------')\n",
    "\n",
    "    print('Resultados en set de prueba')\n",
    "    print('Accuracy: {}'.format(accuracy_score(y_test,pred_test)))\n",
    "    print('Confusion matrix:')\n",
    "    print(confusion_matrix(y_test,pred_test))"
   ]
  },
  {
   "cell_type": "code",
   "execution_count": 11,
   "metadata": {},
   "outputs": [
    {
     "name": "stdout",
     "output_type": "stream",
     "text": [
      "Resultados en set de entrenamiento\n",
      "Accuracy: 0.2165850841554107\n",
      "Confusion matrix:\n",
      "[[ 5589  1284    16  3393  3753  5142  2242   545  7523   644  5698  1560]\n",
      " [ 2537  5226    19  4541  5190  4226  2032  1330  4162   538  6030  1621]\n",
      " [ 1275  1694   786  4339  3409  3342  1580  1068  3143   475  3736  2586]\n",
      " [ 1189  1736    21 10011  5296  3459  2363  1299  4510   627  4292  2642]\n",
      " [ 1273  1320     9  3563 14134  4077  1607   753  4050   248  5467  1042]\n",
      " [ 1763   947     5  1683  2943 15051  2221   251  6415   335  5692   410]\n",
      " [ 2007  1234    18  2093  4090  7590  4201   381  7798   587  7135   407]\n",
      " [ 1351  1793    15  7151  4787  4138  2453  2600  4994   633  5516  2026]\n",
      " [ 2625   822     7   384  2812  6998  2552    56 12167   518  8496    71]\n",
      " [ 1574  1970    17  6221  5038  4002  2417  1383  4447  1135  6685  2664]\n",
      " [ 1011   792    10   140  2781  4562  1433   135  6240   274 20074    25]\n",
      " [ 1783  1833    22  6857  5144  3555  2307  1103  4488   656  5290  4289]]\n",
      "\n",
      "--------------------------\n",
      "Resultados en set de prueba\n",
      "Accuracy: 0.21267409660741812\n",
      "Confusion matrix:\n",
      "[[1797  415   13 1169 1272 1756  779  199 2561  197 1918  535]\n",
      " [ 851 1661    5 1538 1712 1480  658  417 1379  214 2062  571]\n",
      " [ 450  549  268 1428 1214 1129  494  348  996  126 1172  848]\n",
      " [ 410  566   13 3249 1788 1219  772  449 1514  214 1446  915]\n",
      " [ 411  493    1 1176 4708 1362  486  261 1337   92 1808  322]\n",
      " [ 601  327    1  524  922 4834  713  100 2185  101 1849  127]\n",
      " [ 631  405    8  720 1346 2427 1443  134 2645  202 2361  137]\n",
      " [ 483  602    2 2464 1617 1352  804  826 1630  180 1834  749]\n",
      " [ 909  254    4  111  961 2314  813   24 4020  155 2902   25]\n",
      " [ 486  676    8 2021 1625 1395  805  457 1578  302 2229  865]\n",
      " [ 340  270    3   66  921 1479  515   42 2048   90 6737   12]\n",
      " [ 632  658    9 2311 1752 1236  826  414 1524  244 1731 1336]]\n"
     ]
    }
   ],
   "source": [
    "# Resultados del modelo de random forest\n",
    "show_results(rf,Xp,Xp_test,y_train,y_test)"
   ]
  },
  {
   "cell_type": "markdown",
   "metadata": {},
   "source": [
    "### 3.3 Análisis de resultados\n",
    "\n",
    "Los resultados tienen un gran márgen de mejora, que puede ser alcanzado con una sintonización de parámetros más rigurosa utilizando validación cruzada, y considerando más modelos/ diferentes características.\n",
    "\n",
    "Sin embargo, el modelo presentado en este script es un buen punto de partida. En primer lugar, el desempeño en los datos de prueba y en los de entrenamiento es muy similar, por lo que se puede concluir que no hay overfitting.\n",
    "\n",
    "En segundo lugar, es importante poner en perspectiva el **21.2%** de *accuracy* obtenido en el conjunto de prueba. Al existir 12 diferentes categorías en las que puede clasificar una transacción, el porcentaje de acierto esperado de un modelo que clasifique de manera aleatoria es del 1/12 = **8.3%**. Partiendo de ese caso base, nuestro clasificador obtiene un desempeño 2.5 veces superior, lo que muestra el potencial de esta propuesta."
   ]
  }
 ],
 "metadata": {
  "kernelspec": {
   "display_name": "Python 3",
   "language": "python",
   "name": "python3"
  },
  "language_info": {
   "codemirror_mode": {
    "name": "ipython",
    "version": 3
   },
   "file_extension": ".py",
   "mimetype": "text/x-python",
   "name": "python",
   "nbconvert_exporter": "python",
   "pygments_lexer": "ipython3",
   "version": "3.6.6"
  }
 },
 "nbformat": 4,
 "nbformat_minor": 2
}
